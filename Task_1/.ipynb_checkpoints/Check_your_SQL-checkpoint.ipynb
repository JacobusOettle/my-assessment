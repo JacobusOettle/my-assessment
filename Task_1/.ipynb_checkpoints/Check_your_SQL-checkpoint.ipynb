{
 "cells": [
  {
   "cell_type": "code",
   "execution_count": 51,
   "metadata": {},
   "outputs": [],
   "source": [
    "import importlib\n",
    "import subprocess\n",
    "\n",
    "import Advanced_SQL as asql\n",
    "import duckdb\n",
    "import SQL as sql\n",
    "\n",
    "_ = importlib.reload(asql)\n",
    "_ = importlib.reload(sql)"
   ]
  },
  {
   "cell_type": "markdown",
   "metadata": {},
   "source": [
    "Use this cell to test any sql queries. This can be done in one of the following ways:\n",
    "\n",
    "1. Fill in the `qry` within the \"\"\" \"\"\".\n",
    "2. Call the question functions that you have already filled in from the SQL.py and Advanced_SQL.py files. An example of question_1 being called from the SQL.py file is currently commented out.\n",
    "\n",
    "This cell can be copied if you wish to run multiple queries.\n"
   ]
  },
  {
   "cell_type": "code",
   "execution_count": 54,
   "metadata": {},
   "outputs": [
    {
     "data": {
      "text/html": [
       "<div>\n",
       "<style scoped>\n",
       "    .dataframe tbody tr th:only-of-type {\n",
       "        vertical-align: middle;\n",
       "    }\n",
       "\n",
       "    .dataframe tbody tr th {\n",
       "        vertical-align: top;\n",
       "    }\n",
       "\n",
       "    .dataframe thead th {\n",
       "        text-align: right;\n",
       "    }\n",
       "</style>\n",
       "<table border=\"1\" class=\"dataframe\">\n",
       "  <thead>\n",
       "    <tr style=\"text-align: right;\">\n",
       "      <th></th>\n",
       "      <th>CustomerClass</th>\n",
       "      <th>Count</th>\n",
       "    </tr>\n",
       "  </thead>\n",
       "  <tbody>\n",
       "    <tr>\n",
       "      <th>0</th>\n",
       "      <td>B</td>\n",
       "      <td>243</td>\n",
       "    </tr>\n",
       "    <tr>\n",
       "      <th>1</th>\n",
       "      <td>C</td>\n",
       "      <td>271</td>\n",
       "    </tr>\n",
       "    <tr>\n",
       "      <th>2</th>\n",
       "      <td>A+</td>\n",
       "      <td>6</td>\n",
       "    </tr>\n",
       "    <tr>\n",
       "      <th>3</th>\n",
       "      <td>A</td>\n",
       "      <td>480</td>\n",
       "    </tr>\n",
       "  </tbody>\n",
       "</table>\n",
       "</div>"
      ],
      "text/plain": [
       "  CustomerClass  Count\n",
       "0             B    243\n",
       "1             C    271\n",
       "2            A+      6\n",
       "3             A    480"
      ]
     },
     "execution_count": 54,
     "metadata": {},
     "output_type": "execute_result"
    }
   ],
   "source": [
    "# qry = \"\"\"\n",
    "# SELECT * FROM corrected_customers ORDER BY CustomerID limit 490\n",
    "# \"\"\"\n",
    "# CREATE TABLE timeline AS\n",
    "# SELECT \n",
    "#     customers.CustomerID,\n",
    "#     months.MonthName,\n",
    "#     COALESCE(COUNT(r.RepaymentID), 0) AS NumberOfRepayments,\n",
    "#     COALESCE(SUM(r.Amount), 0) AS AmountTotal\n",
    "# FROM \n",
    "#     customers\n",
    "# CROSS JOIN \n",
    "#     months\n",
    "# LEFT JOIN \n",
    "#     (SELECT \n",
    "#         RepaymentID,\n",
    "#         CustomerID,\n",
    "#         Amount,\n",
    "#         CASE \n",
    "#             WHEN TimeZone = 'PST' THEN RepaymentDate + INTERVAL '8 hours'\n",
    "#             WHEN TimeZone = 'EST' THEN RepaymentDate + INTERVAL '5 hours'\n",
    "#             WHEN TimeZone = 'CST' THEN RepaymentDate + INTERVAL '6 hours'\n",
    "#             WHEN TimeZone = 'MST' THEN RepaymentDate + INTERVAL '7 hours'\n",
    "#             ELSE RepaymentDate\n",
    "#         END AS LondonTime\n",
    "#      FROM repayments) r\n",
    "# ON customers.CustomerID = r.CustomerID \n",
    "# AND strftime('%H', r.LondonTime) BETWEEN '06' AND '18'\n",
    "# AND strftime('%m', r.LondonTime) = months.MonthID\n",
    "# GROUP BY \n",
    "#     customers.CustomerID, months.MonthName\n",
    "# ORDER BY \n",
    "#     customers.CustomerID, months.MonthName;\n",
    "\n",
    "# 14 duplicates\n",
    "# 1014 data points\n",
    "qry = sql.question_4()\n",
    "\n",
    "with duckdb.connect(\"database/loan.db\") as cursor:\n",
    "    result_set = cursor.execute(qry).df()\n",
    "\n",
    "result_set"
   ]
  },
  {
   "cell_type": "markdown",
   "metadata": {},
   "source": [
    "Should you break/incorrectly update any database tables, the database can be reset by running the following cell\n"
   ]
  },
  {
   "cell_type": "code",
   "execution_count": 50,
   "metadata": {},
   "outputs": [
    {
     "data": {
      "text/plain": [
       "CompletedProcess(args=['python3', 'database/database_load.py'], returncode=0)"
      ]
     },
     "execution_count": 50,
     "metadata": {},
     "output_type": "execute_result"
    }
   ],
   "source": [
    "load_script_path = \"database/database_load.py\"\n",
    "subprocess.run([\"python3\", load_script_path])"
   ]
  },
  {
   "cell_type": "code",
   "execution_count": null,
   "metadata": {},
   "outputs": [],
   "source": []
  }
 ],
 "metadata": {
  "kernelspec": {
   "display_name": "Python 3 (ipykernel)",
   "language": "python",
   "name": "python3"
  },
  "language_info": {
   "codemirror_mode": {
    "name": "ipython",
    "version": 3
   },
   "file_extension": ".py",
   "mimetype": "text/x-python",
   "name": "python",
   "nbconvert_exporter": "python",
   "pygments_lexer": "ipython3",
   "version": "3.10.15"
  }
 },
 "nbformat": 4,
 "nbformat_minor": 4
}
